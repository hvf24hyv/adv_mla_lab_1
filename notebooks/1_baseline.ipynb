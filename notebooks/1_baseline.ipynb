{
 "cells": [
  {
   "cell_type": "markdown",
   "metadata": {
    "id": "uQ6wc2HE0pke"
   },
   "source": [
    "# **Lab: Engineering for ML**\n",
    "\n"
   ]
  },
  {
   "cell_type": "markdown",
   "metadata": {
    "id": "tQgxLRrvjiJb"
   },
   "source": [
    "## Exercise 2: EDA and Baseline Model\n",
    "\n",
    "In this exercise we will start our data science project by preparing the dataset for modeling\n",
    "\n",
    "**Pre-requisites:**\n",
    "- Create a github account (https://github.com/join)\n",
    "- Install git (https://git-scm.com/book/en/v2/Getting-Started-Installing-Git)\n",
    "- Install pyenv (https://realpython.com/lessons/installing-pyenv/)\n",
    "- Install poetry (https://python-poetry.org/docs/#installation)\n",
    "- Install Wget for Windows users (https://eternallybored.org/misc/wget/)\n",
    "\n",
    "The steps are:\n",
    "1.   Setup Environment\n",
    "2.   Load and explore dataset\n",
    "3.   Prepare Data\n",
    "4.   Split Dataset\n",
    "5.   Get Baseline model\n",
    "6.   Push changes\n"
   ]
  },
  {
   "cell_type": "markdown",
   "metadata": {
    "id": "_NCwQQFkU3v5"
   },
   "source": [
    "## 1. Setup Environment"
   ]
  },
  {
   "cell_type": "markdown",
   "metadata": {
    "id": "cJic131ZrFKg"
   },
   "source": [
    "**[1.1]** Download the dataset (https://raw.githubusercontent.com/aso-uts/labs_datasets/main/36120-adv_mla/lab01/insurance.csv) into the sub-folder data/raw"
   ]
  },
  {
   "cell_type": "code",
   "execution_count": null,
   "metadata": {
    "id": "mNyKhqO1__-w"
   },
   "outputs": [],
   "source": [
    "# For Windows users, you can download and install WGET. Or you can manually download the file from the link and save it to specified path\n",
    "wget -P ~alexanderschou/Desktop/Projects/adv_mla_2024/adv_mla_lab_1/data/raw https://raw.githubusercontent.com/aso-uts/labs_datasets/main/36120-adv_mla/lab01/insurance.csv"
   ]
  },
  {
   "cell_type": "markdown",
   "metadata": {
    "id": "44KEKHXYmkZx"
   },
   "source": [
    "**[1.5]** Launch Jupyter Lab from your virtual environment"
   ]
  },
  {
   "cell_type": "code",
   "execution_count": null,
   "metadata": {
    "id": "u23QCaJVniZj"
   },
   "outputs": [],
   "source": [
    "# Placeholder for student's code (command line)"
   ]
  },
  {
   "cell_type": "code",
   "execution_count": null,
   "metadata": {
    "id": "5Bfg00PomklG"
   },
   "outputs": [],
   "source": [
    "#Solution:\n",
    "poetry run jupyter lab"
   ]
  },
  {
   "cell_type": "markdown",
   "metadata": {
    "id": "vRKog5suWgHA"
   },
   "source": [
    "**[1.6]** Create a new Jupyter Notebook called `1_baseline.ipynb` inside the `work/adv_mla_lab_1/notebooks/` directory\n"
   ]
  },
  {
   "cell_type": "markdown",
   "metadata": {
    "id": "i0-NkSgfZDLx"
   },
   "source": [
    "\n",
    "## 2. Load and Explore Dataset\n",
    "\n"
   ]
  },
  {
   "cell_type": "markdown",
   "metadata": {
    "id": "ZKpy4XYth-Ie"
   },
   "source": [
    "**[2.1]** Launch magic commands to automatically reload modules"
   ]
  },
  {
   "cell_type": "code",
   "execution_count": 1,
   "metadata": {
    "id": "py2Wrp6Zh-QG"
   },
   "outputs": [],
   "source": [
    "%load_ext autoreload\n",
    "%autoreload 2"
   ]
  },
  {
   "cell_type": "markdown",
   "metadata": {
    "id": "4JI0kZJxpkoK"
   },
   "source": [
    "**[2.2]** Import the pandas and numpy package"
   ]
  },
  {
   "cell_type": "code",
   "execution_count": null,
   "metadata": {
    "id": "85PHb6M7p57j"
   },
   "outputs": [],
   "source": [
    "# Placeholder for student's code (Python code)"
   ]
  },
  {
   "cell_type": "code",
   "execution_count": 2,
   "metadata": {
    "id": "1sXpjWA8pz0q"
   },
   "outputs": [],
   "source": [
    "# Solution\n",
    "import pandas as pd\n",
    "import numpy as np"
   ]
  },
  {
   "cell_type": "markdown",
   "metadata": {
    "id": "R-Zy6Oq8pkuB"
   },
   "source": [
    "**[2.3]** Load the dataset into dataframe called df"
   ]
  },
  {
   "cell_type": "code",
   "execution_count": null,
   "metadata": {
    "id": "ZresJIasqpgH"
   },
   "outputs": [],
   "source": [
    "# Placeholder for student's code (Python code)"
   ]
  },
  {
   "cell_type": "code",
   "execution_count": 3,
   "metadata": {
    "id": "ulxGw0rxrwt-"
   },
   "outputs": [],
   "source": [
    "#Solution:\n",
    "df = pd.read_csv('../data/raw/insurance.csv')"
   ]
  },
  {
   "cell_type": "markdown",
   "metadata": {
    "id": "WJxrfRRMswrf"
   },
   "source": [
    "**[2.4]** Display the first 5 rows of df"
   ]
  },
  {
   "cell_type": "code",
   "execution_count": null,
   "metadata": {
    "id": "XLyXb0USsw7s"
   },
   "outputs": [],
   "source": [
    "# Placeholder for student's code (Python code)"
   ]
  },
  {
   "cell_type": "code",
   "execution_count": 5,
   "metadata": {
    "id": "ZtwZkUUksxCP"
   },
   "outputs": [
    {
     "data": {
      "text/html": [
       "<div>\n",
       "<style scoped>\n",
       "    .dataframe tbody tr th:only-of-type {\n",
       "        vertical-align: middle;\n",
       "    }\n",
       "\n",
       "    .dataframe tbody tr th {\n",
       "        vertical-align: top;\n",
       "    }\n",
       "\n",
       "    .dataframe thead th {\n",
       "        text-align: right;\n",
       "    }\n",
       "</style>\n",
       "<table border=\"1\" class=\"dataframe\">\n",
       "  <thead>\n",
       "    <tr style=\"text-align: right;\">\n",
       "      <th></th>\n",
       "      <th>age</th>\n",
       "      <th>sex</th>\n",
       "      <th>bmi</th>\n",
       "      <th>children</th>\n",
       "      <th>smoker</th>\n",
       "      <th>region</th>\n",
       "      <th>charges</th>\n",
       "    </tr>\n",
       "  </thead>\n",
       "  <tbody>\n",
       "    <tr>\n",
       "      <th>0</th>\n",
       "      <td>18</td>\n",
       "      <td>female</td>\n",
       "      <td>33.820</td>\n",
       "      <td>0</td>\n",
       "      <td>no</td>\n",
       "      <td>southeast</td>\n",
       "      <td>1630.66170</td>\n",
       "    </tr>\n",
       "    <tr>\n",
       "      <th>1</th>\n",
       "      <td>19</td>\n",
       "      <td>female</td>\n",
       "      <td>23.480</td>\n",
       "      <td>1</td>\n",
       "      <td>no</td>\n",
       "      <td>southeast</td>\n",
       "      <td>1836.80430</td>\n",
       "    </tr>\n",
       "    <tr>\n",
       "      <th>2</th>\n",
       "      <td>46</td>\n",
       "      <td>male</td>\n",
       "      <td>30.570</td>\n",
       "      <td>2</td>\n",
       "      <td>no</td>\n",
       "      <td>southeast</td>\n",
       "      <td>6632.35130</td>\n",
       "    </tr>\n",
       "    <tr>\n",
       "      <th>3</th>\n",
       "      <td>54</td>\n",
       "      <td>male</td>\n",
       "      <td>32.050</td>\n",
       "      <td>1</td>\n",
       "      <td>yes</td>\n",
       "      <td>southeast</td>\n",
       "      <td>31922.42950</td>\n",
       "    </tr>\n",
       "    <tr>\n",
       "      <th>4</th>\n",
       "      <td>21</td>\n",
       "      <td>male</td>\n",
       "      <td>21.345</td>\n",
       "      <td>4</td>\n",
       "      <td>no</td>\n",
       "      <td>northeast</td>\n",
       "      <td>1638.37255</td>\n",
       "    </tr>\n",
       "  </tbody>\n",
       "</table>\n",
       "</div>"
      ],
      "text/plain": [
       "   age     sex     bmi  children smoker     region      charges\n",
       "0   18  female  33.820         0     no  southeast   1630.66170\n",
       "1   19  female  23.480         1     no  southeast   1836.80430\n",
       "2   46    male  30.570         2     no  southeast   6632.35130\n",
       "3   54    male  32.050         1    yes  southeast  31922.42950\n",
       "4   21    male  21.345         4     no  northeast   1638.37255"
      ]
     },
     "execution_count": 5,
     "metadata": {},
     "output_type": "execute_result"
    }
   ],
   "source": [
    "# Solution\n",
    "df.head()"
   ]
  },
  {
   "cell_type": "markdown",
   "metadata": {
    "id": "6zQ6t_6Es2F3"
   },
   "source": [
    "**[2.5]** Display the dimensions (shape) of df"
   ]
  },
  {
   "cell_type": "code",
   "execution_count": null,
   "metadata": {
    "id": "FJIkdv46s2XI"
   },
   "outputs": [],
   "source": [
    "# Placeholder for student's code (Python code)"
   ]
  },
  {
   "cell_type": "code",
   "execution_count": 6,
   "metadata": {
    "id": "EzYCSDO4s2Zo"
   },
   "outputs": [
    {
     "data": {
      "text/plain": [
       "(50000, 7)"
      ]
     },
     "execution_count": 6,
     "metadata": {},
     "output_type": "execute_result"
    }
   ],
   "source": [
    "# Solution\n",
    "df.shape"
   ]
  },
  {
   "cell_type": "markdown",
   "metadata": {
    "id": "_M_vXlAhs-ic"
   },
   "source": [
    "**[2.6]** Display the summary (info) of df"
   ]
  },
  {
   "cell_type": "code",
   "execution_count": null,
   "metadata": {
    "id": "zBn7w3dvs-oe"
   },
   "outputs": [],
   "source": [
    "# Placeholder for student's code (Python code)"
   ]
  },
  {
   "cell_type": "code",
   "execution_count": 7,
   "metadata": {
    "id": "JYJuOJ3zs-qX"
   },
   "outputs": [
    {
     "name": "stdout",
     "output_type": "stream",
     "text": [
      "<class 'pandas.core.frame.DataFrame'>\n",
      "RangeIndex: 50000 entries, 0 to 49999\n",
      "Data columns (total 7 columns):\n",
      " #   Column    Non-Null Count  Dtype  \n",
      "---  ------    --------------  -----  \n",
      " 0   age       50000 non-null  int64  \n",
      " 1   sex       50000 non-null  object \n",
      " 2   bmi       50000 non-null  float64\n",
      " 3   children  50000 non-null  int64  \n",
      " 4   smoker    50000 non-null  object \n",
      " 5   region    50000 non-null  object \n",
      " 6   charges   50000 non-null  float64\n",
      "dtypes: float64(2), int64(2), object(3)\n",
      "memory usage: 2.7+ MB\n"
     ]
    }
   ],
   "source": [
    "# Solution\n",
    "df.info()"
   ]
  },
  {
   "cell_type": "markdown",
   "metadata": {
    "id": "wuoUg5u6tHa0"
   },
   "source": [
    "**[2.7]** Display the descriptive statistics of df\n"
   ]
  },
  {
   "cell_type": "code",
   "execution_count": null,
   "metadata": {
    "id": "LpFF5nzmtHjV"
   },
   "outputs": [],
   "source": [
    "# Placeholder for student's code (Python code)"
   ]
  },
  {
   "cell_type": "code",
   "execution_count": 8,
   "metadata": {
    "id": "LrRcdf68tHmY"
   },
   "outputs": [
    {
     "data": {
      "text/html": [
       "<div>\n",
       "<style scoped>\n",
       "    .dataframe tbody tr th:only-of-type {\n",
       "        vertical-align: middle;\n",
       "    }\n",
       "\n",
       "    .dataframe tbody tr th {\n",
       "        vertical-align: top;\n",
       "    }\n",
       "\n",
       "    .dataframe thead th {\n",
       "        text-align: right;\n",
       "    }\n",
       "</style>\n",
       "<table border=\"1\" class=\"dataframe\">\n",
       "  <thead>\n",
       "    <tr style=\"text-align: right;\">\n",
       "      <th></th>\n",
       "      <th>age</th>\n",
       "      <th>sex</th>\n",
       "      <th>bmi</th>\n",
       "      <th>children</th>\n",
       "      <th>smoker</th>\n",
       "      <th>region</th>\n",
       "      <th>charges</th>\n",
       "    </tr>\n",
       "  </thead>\n",
       "  <tbody>\n",
       "    <tr>\n",
       "      <th>count</th>\n",
       "      <td>50000.000000</td>\n",
       "      <td>50000</td>\n",
       "      <td>50000.000000</td>\n",
       "      <td>50000.000000</td>\n",
       "      <td>50000</td>\n",
       "      <td>50000</td>\n",
       "      <td>50000.000000</td>\n",
       "    </tr>\n",
       "    <tr>\n",
       "      <th>unique</th>\n",
       "      <td>NaN</td>\n",
       "      <td>2</td>\n",
       "      <td>NaN</td>\n",
       "      <td>NaN</td>\n",
       "      <td>2</td>\n",
       "      <td>4</td>\n",
       "      <td>NaN</td>\n",
       "    </tr>\n",
       "    <tr>\n",
       "      <th>top</th>\n",
       "      <td>NaN</td>\n",
       "      <td>male</td>\n",
       "      <td>NaN</td>\n",
       "      <td>NaN</td>\n",
       "      <td>no</td>\n",
       "      <td>southeast</td>\n",
       "      <td>NaN</td>\n",
       "    </tr>\n",
       "    <tr>\n",
       "      <th>freq</th>\n",
       "      <td>NaN</td>\n",
       "      <td>25176</td>\n",
       "      <td>NaN</td>\n",
       "      <td>NaN</td>\n",
       "      <td>38976</td>\n",
       "      <td>14197</td>\n",
       "      <td>NaN</td>\n",
       "    </tr>\n",
       "    <tr>\n",
       "      <th>mean</th>\n",
       "      <td>39.463120</td>\n",
       "      <td>NaN</td>\n",
       "      <td>30.713734</td>\n",
       "      <td>1.113760</td>\n",
       "      <td>NaN</td>\n",
       "      <td>NaN</td>\n",
       "      <td>13343.216363</td>\n",
       "    </tr>\n",
       "    <tr>\n",
       "      <th>std</th>\n",
       "      <td>14.117142</td>\n",
       "      <td>NaN</td>\n",
       "      <td>6.092727</td>\n",
       "      <td>1.212835</td>\n",
       "      <td>NaN</td>\n",
       "      <td>NaN</td>\n",
       "      <td>12131.222744</td>\n",
       "    </tr>\n",
       "    <tr>\n",
       "      <th>min</th>\n",
       "      <td>18.000000</td>\n",
       "      <td>NaN</td>\n",
       "      <td>17.291000</td>\n",
       "      <td>0.000000</td>\n",
       "      <td>NaN</td>\n",
       "      <td>NaN</td>\n",
       "      <td>1137.535900</td>\n",
       "    </tr>\n",
       "    <tr>\n",
       "      <th>25%</th>\n",
       "      <td>27.000000</td>\n",
       "      <td>NaN</td>\n",
       "      <td>26.600000</td>\n",
       "      <td>0.000000</td>\n",
       "      <td>NaN</td>\n",
       "      <td>NaN</td>\n",
       "      <td>4694.431800</td>\n",
       "    </tr>\n",
       "    <tr>\n",
       "      <th>50%</th>\n",
       "      <td>40.000000</td>\n",
       "      <td>NaN</td>\n",
       "      <td>30.300000</td>\n",
       "      <td>1.000000</td>\n",
       "      <td>NaN</td>\n",
       "      <td>NaN</td>\n",
       "      <td>9399.232775</td>\n",
       "    </tr>\n",
       "    <tr>\n",
       "      <th>75%</th>\n",
       "      <td>51.000000</td>\n",
       "      <td>NaN</td>\n",
       "      <td>34.570000</td>\n",
       "      <td>2.000000</td>\n",
       "      <td>NaN</td>\n",
       "      <td>NaN</td>\n",
       "      <td>17340.746925</td>\n",
       "    </tr>\n",
       "    <tr>\n",
       "      <th>max</th>\n",
       "      <td>64.000000</td>\n",
       "      <td>NaN</td>\n",
       "      <td>47.740000</td>\n",
       "      <td>5.000000</td>\n",
       "      <td>NaN</td>\n",
       "      <td>NaN</td>\n",
       "      <td>52589.810300</td>\n",
       "    </tr>\n",
       "  </tbody>\n",
       "</table>\n",
       "</div>"
      ],
      "text/plain": [
       "                 age    sex           bmi      children smoker     region  \\\n",
       "count   50000.000000  50000  50000.000000  50000.000000  50000      50000   \n",
       "unique           NaN      2           NaN           NaN      2          4   \n",
       "top              NaN   male           NaN           NaN     no  southeast   \n",
       "freq             NaN  25176           NaN           NaN  38976      14197   \n",
       "mean       39.463120    NaN     30.713734      1.113760    NaN        NaN   \n",
       "std        14.117142    NaN      6.092727      1.212835    NaN        NaN   \n",
       "min        18.000000    NaN     17.291000      0.000000    NaN        NaN   \n",
       "25%        27.000000    NaN     26.600000      0.000000    NaN        NaN   \n",
       "50%        40.000000    NaN     30.300000      1.000000    NaN        NaN   \n",
       "75%        51.000000    NaN     34.570000      2.000000    NaN        NaN   \n",
       "max        64.000000    NaN     47.740000      5.000000    NaN        NaN   \n",
       "\n",
       "             charges  \n",
       "count   50000.000000  \n",
       "unique           NaN  \n",
       "top              NaN  \n",
       "freq             NaN  \n",
       "mean    13343.216363  \n",
       "std     12131.222744  \n",
       "min      1137.535900  \n",
       "25%      4694.431800  \n",
       "50%      9399.232775  \n",
       "75%     17340.746925  \n",
       "max     52589.810300  "
      ]
     },
     "execution_count": 8,
     "metadata": {},
     "output_type": "execute_result"
    }
   ],
   "source": [
    "# Solution\n",
    "df.describe(include='all')"
   ]
  },
  {
   "cell_type": "markdown",
   "metadata": {
    "id": "tPHsDYeOtl5l"
   },
   "source": [
    "## 3. Prepare Data"
   ]
  },
  {
   "cell_type": "markdown",
   "metadata": {
    "id": "zJl_X7dzyZBU"
   },
   "source": [
    "**[3.1]** Create a copy of df and save it into a variable called df_cleaned"
   ]
  },
  {
   "cell_type": "code",
   "execution_count": null,
   "metadata": {
    "id": "PPxvjFdHyZJo"
   },
   "outputs": [],
   "source": [
    "# Placeholder for student's code (Python code)"
   ]
  },
  {
   "cell_type": "code",
   "execution_count": 9,
   "metadata": {
    "id": "94SIRiRYyDOZ"
   },
   "outputs": [],
   "source": [
    "# Solution\n",
    "df_cleaned = df.copy()"
   ]
  },
  {
   "cell_type": "markdown",
   "metadata": {
    "id": "r8FMzCVyyQb8"
   },
   "source": [
    "**[3.2]** Extract the column `charges` and save it into variable called `target`"
   ]
  },
  {
   "cell_type": "code",
   "execution_count": null,
   "metadata": {
    "id": "aTn2VB7syQn8"
   },
   "outputs": [],
   "source": [
    "# Placeholder for student's code (Python code)"
   ]
  },
  {
   "cell_type": "code",
   "execution_count": 10,
   "metadata": {
    "id": "EAMfTpGoyQu3",
    "tags": []
   },
   "outputs": [],
   "source": [
    "# Solution:\n",
    "target = df_cleaned.pop('charges')"
   ]
  },
  {
   "cell_type": "markdown",
   "metadata": {
    "id": "VCodIpkcOwR2"
   },
   "source": [
    "**[3.3]** Create 2 lists named `num_cols` and `cat_cols` containing respectively the names of numerical and categotical columns"
   ]
  },
  {
   "cell_type": "code",
   "execution_count": null,
   "metadata": {
    "id": "dJg0PL9lOwc0"
   },
   "outputs": [],
   "source": [
    "# Placeholder for student's code (Python code)"
   ]
  },
  {
   "cell_type": "code",
   "execution_count": 11,
   "metadata": {
    "id": "sEkkD_ReOwft"
   },
   "outputs": [],
   "source": [
    "# Solution:\n",
    "num_cols = list(df_cleaned.select_dtypes('number').columns)\n",
    "cat_cols = list(set(df_cleaned.columns) - set(num_cols))"
   ]
  },
  {
   "cell_type": "markdown",
   "metadata": {
    "id": "OxkQudqwzz7z"
   },
   "source": [
    "**[3.4]** Import StandardScaler from sklearn.preprocessing"
   ]
  },
  {
   "cell_type": "code",
   "execution_count": null,
   "metadata": {
    "id": "VonTi58xz0EC"
   },
   "outputs": [],
   "source": [
    "# Placeholder for student's code (Python code)"
   ]
  },
  {
   "cell_type": "code",
   "execution_count": 12,
   "metadata": {
    "id": "AOBX83aKz0Rl"
   },
   "outputs": [],
   "source": [
    "# Solution\n",
    "from sklearn.preprocessing import StandardScaler, OneHotEncoder"
   ]
  },
  {
   "cell_type": "markdown",
   "metadata": {
    "id": "FbcFeCTkPorv"
   },
   "source": [
    "**[3.5]** Instantiate the OneHotEncoder"
   ]
  },
  {
   "cell_type": "code",
   "execution_count": null,
   "metadata": {
    "id": "kLKcyVnVPoy4"
   },
   "outputs": [],
   "source": [
    "# Placeholder for student's code (Python code)"
   ]
  },
  {
   "cell_type": "code",
   "execution_count": 13,
   "metadata": {
    "id": "A6zSD_4QPo1M"
   },
   "outputs": [],
   "source": [
    "# Solution\n",
    "ohe = OneHotEncoder(sparse_output=False, drop='first')"
   ]
  },
  {
   "cell_type": "markdown",
   "metadata": {
    "id": "sBfSfTMBTQKP"
   },
   "source": [
    "**[3.6]** Fit and apply the OneHotEncoder on `df_cleaned` and save the result in `features`"
   ]
  },
  {
   "cell_type": "code",
   "execution_count": null,
   "metadata": {
    "id": "6Ca4HronTY6T"
   },
   "outputs": [],
   "source": [
    "# Placeholder for student's code (Python code)"
   ]
  },
  {
   "cell_type": "code",
   "execution_count": 14,
   "metadata": {
    "id": "fkPRTWwlR7YH"
   },
   "outputs": [],
   "source": [
    "# Solution\n",
    "features = ohe.fit_transform(df_cleaned[cat_cols])"
   ]
  },
  {
   "cell_type": "markdown",
   "metadata": {
    "id": "f_C-dDhCUDPX"
   },
   "source": [
    "**[3.7]** Convert `features` into a dataframe"
   ]
  },
  {
   "cell_type": "code",
   "execution_count": null,
   "metadata": {
    "id": "ieYyC7HYUDZb"
   },
   "outputs": [],
   "source": [
    "# Placeholder for student's code (Python code)"
   ]
  },
  {
   "cell_type": "code",
   "execution_count": 15,
   "metadata": {
    "id": "yaUYy0oeUDb0"
   },
   "outputs": [],
   "source": [
    "# Solution\n",
    "features = pd.DataFrame(features, columns=ohe.get_feature_names_out())"
   ]
  },
  {
   "cell_type": "markdown",
   "metadata": {
    "id": "zD-FwMOP0ESC"
   },
   "source": [
    "**[3.8]** Instantiate the StandardScaler"
   ]
  },
  {
   "cell_type": "code",
   "execution_count": 16,
   "metadata": {
    "id": "rK8wLflu0Ed5"
   },
   "outputs": [],
   "source": [
    "# Placeholder for student's code (Python code)"
   ]
  },
  {
   "cell_type": "code",
   "execution_count": 17,
   "metadata": {
    "id": "JfiKbw1E0Ee5"
   },
   "outputs": [],
   "source": [
    "# Solution\n",
    "scaler = StandardScaler()"
   ]
  },
  {
   "cell_type": "markdown",
   "metadata": {
    "id": "L8Tgk3ZW0RGA"
   },
   "source": [
    "**[3.9]** Fit and apply the scaling on `df` and add the results into `features`"
   ]
  },
  {
   "cell_type": "code",
   "execution_count": 18,
   "metadata": {
    "id": "V8T92u1n0RRm"
   },
   "outputs": [],
   "source": [
    "# Placeholder for student's code (Python code)"
   ]
  },
  {
   "cell_type": "code",
   "execution_count": 19,
   "metadata": {
    "id": "D1gz4fwW0RUQ",
    "tags": []
   },
   "outputs": [],
   "source": [
    "# Solution:\n",
    "features[num_cols] = scaler.fit_transform(df_cleaned[num_cols])"
   ]
  },
  {
   "cell_type": "markdown",
   "metadata": {
    "id": "EsdB35e9MPgT"
   },
   "source": [
    "**[3.10]** Import dump from joblib\n",
    "\n"
   ]
  },
  {
   "cell_type": "code",
   "execution_count": 20,
   "metadata": {
    "id": "iiwnHCeyMPug"
   },
   "outputs": [],
   "source": [
    "# Placeholder for student's code (Python code)"
   ]
  },
  {
   "cell_type": "code",
   "execution_count": 21,
   "metadata": {
    "id": "dUkDKhPDMPxl"
   },
   "outputs": [],
   "source": [
    "# Solution:\n",
    "from joblib import dump"
   ]
  },
  {
   "cell_type": "markdown",
   "metadata": {
    "id": "PQpNxzKdMmbr"
   },
   "source": [
    "**[3.11]** Save the one-hot encoder and scaler into the folder `models` and call the files respectively `ohe.joblib` and  `scaler.joblib`"
   ]
  },
  {
   "cell_type": "code",
   "execution_count": 22,
   "metadata": {
    "id": "21amYzx3Mmlv"
   },
   "outputs": [],
   "source": [
    "# Placeholder for student's code (Python code)"
   ]
  },
  {
   "cell_type": "code",
   "execution_count": 23,
   "metadata": {
    "id": "sFzM0GGMWSPf"
   },
   "outputs": [
    {
     "data": {
      "text/plain": [
       "['../models/scaler.joblib']"
      ]
     },
     "execution_count": 23,
     "metadata": {},
     "output_type": "execute_result"
    }
   ],
   "source": [
    "# Solution:\n",
    "dump(ohe, '../models/ohe.joblib')\n",
    "dump(scaler, '../models/scaler.joblib')"
   ]
  },
  {
   "cell_type": "markdown",
   "metadata": {
    "id": "D2NlDzJKUZUh"
   },
   "source": [
    "## 4. Split Dataset"
   ]
  },
  {
   "cell_type": "markdown",
   "metadata": {
    "id": "wxT1liPFUeW7"
   },
   "source": [
    "**[4.1]** import train_test_split from sklearn.model_selection"
   ]
  },
  {
   "cell_type": "code",
   "execution_count": 24,
   "metadata": {
    "id": "atI_Cb26U6lm"
   },
   "outputs": [],
   "source": [
    "# Placeholder for student's code (Python code)"
   ]
  },
  {
   "cell_type": "code",
   "execution_count": 25,
   "metadata": {
    "id": "FUaBQN0zU8AL"
   },
   "outputs": [],
   "source": [
    "# Solution\n",
    "from sklearn.model_selection import train_test_split"
   ]
  },
  {
   "cell_type": "markdown",
   "metadata": {
    "id": "BBQOsRd61Ohc"
   },
   "source": [
    "**[4.2]** Split the data into training validation and testing sets as Numpy arrays"
   ]
  },
  {
   "cell_type": "code",
   "execution_count": 26,
   "metadata": {
    "id": "dLSnWeL71Op3"
   },
   "outputs": [],
   "source": [
    "# Placeholder for student's code (Python code)"
   ]
  },
  {
   "cell_type": "code",
   "execution_count": 27,
   "metadata": {
    "id": "7corXpZM1Ose",
    "tags": []
   },
   "outputs": [],
   "source": [
    "# Solution\n",
    "X_data, X_test, y_data, y_test = train_test_split(features, target, test_size=0.2, random_state=8)\n",
    "X_train, X_val, y_train, y_val = train_test_split(X_data, y_data, test_size=0.2, random_state=8)"
   ]
  },
  {
   "cell_type": "markdown",
   "metadata": {
    "id": "i_fDmAl312hJ"
   },
   "source": [
    "**[4.3]** Print the dimensions of `X_train`, `X_val`, `X_test`"
   ]
  },
  {
   "cell_type": "code",
   "execution_count": 28,
   "metadata": {
    "id": "eJyJqw0p12qf"
   },
   "outputs": [],
   "source": [
    "# Placeholder for student's code (Python code)"
   ]
  },
  {
   "cell_type": "code",
   "execution_count": 29,
   "metadata": {
    "id": "Yay4TXsZ12vP",
    "tags": []
   },
   "outputs": [
    {
     "name": "stdout",
     "output_type": "stream",
     "text": [
      "(32000, 8)\n",
      "(8000, 8)\n",
      "(10000, 8)\n"
     ]
    }
   ],
   "source": [
    "# Solution\n",
    "print(X_train.shape)\n",
    "print(X_val.shape)\n",
    "print(X_test.shape)"
   ]
  },
  {
   "cell_type": "markdown",
   "metadata": {
    "id": "ms2h3Y6M2Ia_"
   },
   "source": [
    "**[4.4]** Print the dimensions of `y_train`, `y_val`, `y_test`"
   ]
  },
  {
   "cell_type": "code",
   "execution_count": 30,
   "metadata": {
    "id": "NBYxpdA22IiG"
   },
   "outputs": [],
   "source": [
    "# Placeholder for student's code (Python code)"
   ]
  },
  {
   "cell_type": "code",
   "execution_count": 31,
   "metadata": {
    "id": "RWMz_heF2Ivg",
    "tags": []
   },
   "outputs": [
    {
     "name": "stdout",
     "output_type": "stream",
     "text": [
      "(32000,)\n",
      "(8000,)\n",
      "(10000,)\n"
     ]
    }
   ],
   "source": [
    "# Solution\n",
    "print(y_train.shape)\n",
    "print(y_val.shape)\n",
    "print(y_test.shape)"
   ]
  },
  {
   "cell_type": "markdown",
   "metadata": {
    "id": "V7S-IWRUW2H_"
   },
   "source": [
    "**[4.5]** Save the sets into the folder `data/processed`"
   ]
  },
  {
   "cell_type": "code",
   "execution_count": 32,
   "metadata": {
    "id": "lxpL14vGXBps"
   },
   "outputs": [],
   "source": [
    "# Placeholder for student's code (Python code)"
   ]
  },
  {
   "cell_type": "code",
   "execution_count": 33,
   "metadata": {
    "id": "D5ticW7saJOY"
   },
   "outputs": [],
   "source": [
    "# Solution\n",
    "X_train.to_csv('../data/processed/X_train.csv', index=False)\n",
    "X_val.to_csv('../data/processed/X_val.csv', index=False)\n",
    "X_test.to_csv('../data/processed/X_test.csv', index=False)\n",
    "y_train.to_csv('../data/processed/y_train.csv', index=False)\n",
    "y_val.to_csv('../data/processed/y_val.csv', index=False)\n",
    "y_test.to_csv('../data/processed/y_test.csv', index=False)"
   ]
  },
  {
   "cell_type": "markdown",
   "metadata": {
    "id": "P4POxjz4Oi6W"
   },
   "source": [
    "## 5. Get Baseline Model"
   ]
  },
  {
   "cell_type": "markdown",
   "metadata": {
    "id": "IBSCq-14C9Ox"
   },
   "source": [
    "**[5.1]** Calculate the average of the target variable for the training set and save it into a variable called `pred_value`"
   ]
  },
  {
   "cell_type": "code",
   "execution_count": 34,
   "metadata": {
    "id": "1Ow6jp7TC9Ox"
   },
   "outputs": [],
   "source": [
    "# Placeholder for student's code (Python code)"
   ]
  },
  {
   "cell_type": "code",
   "execution_count": 35,
   "metadata": {
    "id": "GkiEfuwOC9Ox"
   },
   "outputs": [],
   "source": [
    "# Solution:\n",
    "pred_value = y_train.mean()"
   ]
  },
  {
   "cell_type": "markdown",
   "metadata": {
    "id": "FNcJ4Zi8OlDO"
   },
   "source": [
    "**[5.2]** Generate a numpy array with same dimensions as y_train that contains only the value saved in pred_value"
   ]
  },
  {
   "cell_type": "code",
   "execution_count": 36,
   "metadata": {
    "id": "VecsH41UOlKb"
   },
   "outputs": [],
   "source": [
    "# Placeholder for student's code (Python code)"
   ]
  },
  {
   "cell_type": "code",
   "execution_count": 37,
   "metadata": {
    "id": "kgye9eXmOlOK",
    "tags": []
   },
   "outputs": [],
   "source": [
    "# Solution:\n",
    "y_base = np.full((len(y_train), 1), pred_value)"
   ]
  },
  {
   "cell_type": "markdown",
   "metadata": {
    "id": "LnalRa8uQRNj"
   },
   "source": [
    "**[5.5]** Import mean_squared_error and mean_absolute_error from sklearn.metrics"
   ]
  },
  {
   "cell_type": "code",
   "execution_count": 38,
   "metadata": {
    "id": "Yj-Q9J5FQRTE"
   },
   "outputs": [],
   "source": [
    "# Placeholder for student's code (Python code)"
   ]
  },
  {
   "cell_type": "code",
   "execution_count": 39,
   "metadata": {
    "id": "hn2PL3QuQRVZ"
   },
   "outputs": [],
   "source": [
    "# Solution:\n",
    "from sklearn.metrics import root_mean_squared_error as rmse\n",
    "from sklearn.metrics import mean_absolute_error as mae"
   ]
  },
  {
   "cell_type": "markdown",
   "metadata": {
    "id": "jgGVUiILC9Oz"
   },
   "source": [
    "**[5.6]** Display the RMSE and MAE scores of this baseline model on the training set"
   ]
  },
  {
   "cell_type": "code",
   "execution_count": 40,
   "metadata": {
    "id": "mU04WxGRC9Oz",
    "tags": []
   },
   "outputs": [],
   "source": [
    "# Placeholder for student's code (Python code)"
   ]
  },
  {
   "cell_type": "code",
   "execution_count": 41,
   "metadata": {
    "id": "Pw_LqGuGC9Oz",
    "tags": []
   },
   "outputs": [
    {
     "name": "stdout",
     "output_type": "stream",
     "text": [
      "12116.584822448176\n",
      "9118.852804794265\n"
     ]
    }
   ],
   "source": [
    "# Solution:\n",
    "print(rmse(y_base, y_train))\n",
    "print(mae(y_base, y_train))"
   ]
  },
  {
   "cell_type": "markdown",
   "metadata": {
    "editable": true,
    "id": "1yX0Ocg4hcZM",
    "slideshow": {
     "slide_type": ""
    },
    "tags": []
   },
   "source": [
    "## 6.   Push changes"
   ]
  },
  {
   "cell_type": "markdown",
   "metadata": {
    "id": "3guOKU9gjrmp"
   },
   "source": [
    "**[6.1]** Add your changes to git staging area"
   ]
  },
  {
   "cell_type": "code",
   "execution_count": 42,
   "metadata": {
    "id": "lKuRNeqAj0ym"
   },
   "outputs": [],
   "source": [
    "# Placeholder for student's code (command line)"
   ]
  },
  {
   "cell_type": "code",
   "execution_count": 44,
   "metadata": {
    "id": "axcj-jS0jruy"
   },
   "outputs": [
    {
     "ename": "SyntaxError",
     "evalue": "invalid syntax (2810382083.py, line 2)",
     "output_type": "error",
     "traceback": [
      "\u001b[0;36m  Cell \u001b[0;32mIn[44], line 2\u001b[0;36m\u001b[0m\n\u001b[0;31m    git add .\u001b[0m\n\u001b[0m        ^\u001b[0m\n\u001b[0;31mSyntaxError\u001b[0m\u001b[0;31m:\u001b[0m invalid syntax\n"
     ]
    }
   ],
   "source": [
    "# Solution:\n",
    "git add ."
   ]
  },
  {
   "cell_type": "markdown",
   "metadata": {
    "id": "6nUK2dp_j67X"
   },
   "source": [
    "**[6.2]** Create the snapshot of your repository and add a description"
   ]
  },
  {
   "cell_type": "code",
   "execution_count": null,
   "metadata": {
    "id": "1-M-aS-Ij7EE"
   },
   "outputs": [],
   "source": [
    "# Placeholder for student's code (command line)"
   ]
  },
  {
   "cell_type": "code",
   "execution_count": null,
   "metadata": {
    "id": "zovhzXRxj7Il"
   },
   "outputs": [],
   "source": [
    "# Solution:\n",
    "git commit -m \"prepare data and baseline\""
   ]
  },
  {
   "cell_type": "markdown",
   "metadata": {
    "id": "Y9FciIQZj7nX"
   },
   "source": [
    "**[6.3]** Push your snapshot to Github"
   ]
  },
  {
   "cell_type": "code",
   "execution_count": null,
   "metadata": {
    "id": "IR7i6D5hj7uO"
   },
   "outputs": [],
   "source": [
    "# Placeholder for student's code (command line)"
   ]
  },
  {
   "cell_type": "code",
   "execution_count": null,
   "metadata": {
    "id": "WaVAgJ4Aj7wi"
   },
   "outputs": [],
   "source": [
    "# Solution:\n",
    "git push"
   ]
  },
  {
   "cell_type": "markdown",
   "metadata": {
    "id": "L9IP0YcaqGQK"
   },
   "source": [
    "**[6.4]** Stop Jupyter Lab"
   ]
  },
  {
   "cell_type": "code",
   "execution_count": null,
   "metadata": {
    "id": "EhioOsXd1U6U"
   },
   "outputs": [],
   "source": [
    "# Solution:\n",
    "ctrl+c"
   ]
  }
 ],
 "metadata": {
  "colab": {
   "provenance": []
  },
  "kernelspec": {
   "display_name": "Python 3 (ipykernel)",
   "language": "python",
   "name": "python3"
  },
  "language_info": {
   "codemirror_mode": {
    "name": "ipython",
    "version": 3
   },
   "file_extension": ".py",
   "mimetype": "text/x-python",
   "name": "python",
   "nbconvert_exporter": "python",
   "pygments_lexer": "ipython3",
   "version": "3.12.4"
  }
 },
 "nbformat": 4,
 "nbformat_minor": 4
}
